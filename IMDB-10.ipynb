{
 "cells": [
  {
   "cell_type": "code",
   "execution_count": 1,
   "id": "0e8b3d91",
   "metadata": {},
   "outputs": [],
   "source": [
    "import torch\n",
    "import torch.nn as nn\n",
    "import torch.optim as optim\n",
    "from torch.utils.data import DataLoader, Dataset\n",
    "from transformers import BertTokenizer, BertModel\n",
    "from sklearn.metrics import accuracy_score, classification_report\n",
    "import numpy as np\n",
    "from tqdm import tqdm\n",
    "import matplotlib.pyplot as plt\n",
    "import os\n",
    "import re\n",
    "from collections import Counter\n",
    "\n",
    "# 数据集类\n",
    "class IMDBDataset(Dataset):\n",
    "    def __init__(self, texts, labels, vocab=None, tokenizer=None, max_len=512, use_bert=False):\n",
    "        self.texts = texts\n",
    "        self.labels = labels\n",
    "        self.max_len = max_len\n",
    "        self.use_bert = use_bert\n",
    "        \n",
    "        if use_bert:\n",
    "            self.tokenizer = tokenizer\n",
    "        else:\n",
    "            self.vocab = vocab\n",
    "            self.word_to_idx = {word: idx for idx, word in enumerate(vocab)}\n",
    "    \n",
    "    def __len__(self):\n",
    "        return len(self.texts)\n",
    "    \n",
    "    def __getitem__(self, idx):\n",
    "        text = self.texts[idx]\n",
    "        label = self.labels[idx]\n",
    "        \n",
    "        if self.use_bert:\n",
    "            encoding = self.tokenizer(\n",
    "                text,\n",
    "                truncation=True,\n",
    "                padding='max_length',\n",
    "                max_length=self.max_len,\n",
    "                return_tensors='pt'\n",
    "            )\n",
    "            return {\n",
    "                'input_ids': encoding['input_ids'].flatten(),\n",
    "                'attention_mask': encoding['attention_mask'].flatten(),\n",
    "                'label': torch.tensor(label, dtype=torch.long)\n",
    "            }\n",
    "        else:\n",
    "            # 普通词汇表处理\n",
    "            tokens = text.lower().split()\n",
    "            indices = [self.word_to_idx.get(token, 1) for token in tokens]  # 1是<unk>的索引\n",
    "            \n",
    "            # 截断或填充\n",
    "            if len(indices) > self.max_len:\n",
    "                indices = indices[:self.max_len]\n",
    "            else:\n",
    "                indices += [0] * (self.max_len - len(indices))  # 0是<pad>的索引\n",
    "            \n",
    "            return {\n",
    "                'input_ids': torch.tensor(indices, dtype=torch.long),\n",
    "                'label': torch.tensor(label, dtype=torch.long)\n",
    "            }\n",
    "\n",
    "# 构建词汇表\n",
    "def build_vocab(texts, min_freq=2):\n",
    "    counter = Counter()\n",
    "    for text in texts:\n",
    "        tokens = text.lower().split()\n",
    "        counter.update(tokens)\n",
    "    \n",
    "    vocab = ['<pad>', '<unk>'] + [word for word, freq in counter.items() if freq >= min_freq]\n",
    "    return vocab\n",
    "\n",
    "# 加载GloVe嵌入\n",
    "def load_glove_embeddings(glove_path, vocab, embedding_dim):\n",
    "    embeddings = np.random.normal(0, 0.1, (len(vocab), embedding_dim))\n",
    "    \n",
    "    if os.path.exists(glove_path):\n",
    "        print(f\"Loading GloVe embeddings from {glove_path}\")\n",
    "        word_to_idx = {word: idx for idx, word in enumerate(vocab)}\n",
    "        \n",
    "        with open(glove_path, 'r', encoding='utf-8') as f:\n",
    "            for line in f:\n",
    "                values = line.split()\n",
    "                word = values[0]\n",
    "                if word in word_to_idx:\n",
    "                    vector = np.array(values[1:], dtype=np.float32)\n",
    "                    embeddings[word_to_idx[word]] = vector\n",
    "    else:\n",
    "        print(f\"GloVe file not found at {glove_path}, using random embeddings\")\n",
    "    \n",
    "    return torch.FloatTensor(embeddings)"
   ]
  },
  {
   "cell_type": "code",
   "execution_count": 2,
   "id": "412ec469-d0fd-4d69-93ec-d3f226fb9249",
   "metadata": {},
   "outputs": [],
   "source": [
    "# Model 1: GloVe + BiLSTM\n",
    "class GloVeBiLSTMModel(nn.Module):\n",
    "    def __init__(self, vocab_size, embedding_dim, hidden_dim, num_classes, pretrained_embeddings=None):\n",
    "        super(GloVeBiLSTMModel, self).__init__()\n",
    "        \n",
    "        self.embedding = nn.Embedding(vocab_size, embedding_dim, padding_idx=0)\n",
    "        if pretrained_embeddings is not None:\n",
    "            self.embedding.weight.data.copy_(pretrained_embeddings)\n",
    "        \n",
    "        self.lstm = nn.LSTM(embedding_dim, hidden_dim, batch_first=True, bidirectional=True)\n",
    "        self.dropout = nn.Dropout(0.3)\n",
    "        self.fc = nn.Linear(hidden_dim * 2, num_classes)\n",
    "    \n",
    "    def forward(self, x):\n",
    "        # x是字典，包含'input_ids'和'label'\n",
    "        embedded = self.embedding(x['input_ids'])\n",
    "        lstm_out, _ = self.lstm(embedded)\n",
    "        \n",
    "        # 取最后一个时间步的输出\n",
    "        last_hidden = lstm_out[:, -1, :]\n",
    "        output = self.dropout(last_hidden)\n",
    "        output = self.fc(output)\n",
    "        \n",
    "        return output\n",
    "\n",
    "# Model 2: BERT嵌入 + BiLSTM\n",
    "class BertBiLSTMModel(nn.Module):\n",
    "    def __init__(self, bert_model_name, hidden_dim, num_classes, freeze_bert=True):\n",
    "        super(BertBiLSTMModel, self).__init__()\n",
    "        \n",
    "        self.bert = BertModel.from_pretrained(bert_model_name)\n",
    "        if freeze_bert:\n",
    "            for param in self.bert.parameters():\n",
    "                param.requires_grad = False\n",
    "        \n",
    "        self.lstm = nn.LSTM(768, hidden_dim, batch_first=True, bidirectional=True)\n",
    "        self.dropout = nn.Dropout(0.3)\n",
    "        self.fc = nn.Linear(hidden_dim * 2, num_classes)\n",
    "    \n",
    "    def forward(self, x):\n",
    "        bert_output = self.bert(input_ids=x['input_ids'], \n",
    "                               attention_mask=x['attention_mask'])\n",
    "        \n",
    "        lstm_out, _ = self.lstm(bert_output.last_hidden_state)\n",
    "        \n",
    "        # 取最后一个时间步的输出\n",
    "        last_hidden = lstm_out[:, -1, :]\n",
    "        output = self.dropout(last_hidden)\n",
    "        output = self.fc(output)\n",
    "        \n",
    "        return output\n",
    "\n",
    "# Model 3: BERT微调\n",
    "class BertFineTuneModel(nn.Module):\n",
    "    def __init__(self, bert_model_name, num_classes):\n",
    "        super(BertFineTuneModel, self).__init__()\n",
    "        \n",
    "        self.bert = BertModel.from_pretrained(bert_model_name)\n",
    "        self.dropout = nn.Dropout(0.3)\n",
    "        self.fc = nn.Linear(768, num_classes)\n",
    "    \n",
    "    def forward(self, x):\n",
    "        bert_output = self.bert(input_ids=x['input_ids'], \n",
    "                               attention_mask=x['attention_mask'])\n",
    "        \n",
    "        # 使用[CLS] token的输出\n",
    "        cls_output = bert_output.last_hidden_state[:, 0, :]\n",
    "        output = self.dropout(cls_output)\n",
    "        output = self.fc(output)\n",
    "        \n",
    "        return output\n"
   ]
  },
  {
   "cell_type": "code",
   "execution_count": 3,
   "id": "6be98e52-f7a5-4768-98d2-417182c4fba2",
   "metadata": {},
   "outputs": [
    {
     "name": "stdout",
     "output_type": "stream",
     "text": [
      "Using device: cuda\n",
      "Loading IMDB dataset...\n",
      "Train samples: 67426\n",
      "Validation samples: 8381\n",
      "Test samples: 9112\n"
     ]
    }
   ],
   "source": [
    "def train_model(model, train_loader, val_loader, criterion, optimizer, num_epochs, device):\n",
    "    train_losses = []\n",
    "    val_accuracies = []\n",
    "    \n",
    "    for epoch in range(num_epochs):\n",
    "        # 训练阶段\n",
    "        model.train()\n",
    "        total_loss = 0\n",
    "        train_pbar = tqdm(train_loader, desc=f'Epoch {epoch+1}/{num_epochs}', leave=False)\n",
    "        \n",
    "        for batch in train_pbar:\n",
    "            # 将数据移到设备上\n",
    "            for key in batch:\n",
    "                batch[key] = batch[key].to(device)\n",
    "            \n",
    "            optimizer.zero_grad()\n",
    "            \n",
    "            outputs = model(batch)\n",
    "            loss = criterion(outputs, batch['label'])\n",
    "            \n",
    "            loss.backward()\n",
    "            optimizer.step()\n",
    "            \n",
    "            total_loss += loss.item()\n",
    "            train_pbar.set_postfix({'loss': loss.item()})\n",
    "        \n",
    "        avg_train_loss = total_loss / len(train_loader)\n",
    "        train_losses.append(avg_train_loss)\n",
    "        \n",
    "        # 验证阶段\n",
    "        model.eval()\n",
    "        all_preds = []\n",
    "        all_labels = []\n",
    "        \n",
    "        with torch.no_grad():\n",
    "            for batch in val_loader:\n",
    "                # 将数据移到设备上\n",
    "                for key in batch:\n",
    "                    batch[key] = batch[key].to(device)\n",
    "                \n",
    "                outputs = model(batch)\n",
    "                predictions = torch.argmax(outputs, dim=1)\n",
    "                \n",
    "                all_preds.extend(predictions.cpu().numpy())\n",
    "                all_labels.extend(batch['label'].cpu().numpy())\n",
    "        \n",
    "        val_accuracy = accuracy_score(all_labels, all_preds)\n",
    "        val_accuracies.append(val_accuracy)\n",
    "        \n",
    "        print(f'Epoch {epoch+1}/{num_epochs}, Loss: {avg_train_loss:.4f}, Val Acc: {val_accuracy:.4f}')\n",
    "    \n",
    "    return train_losses, val_accuracies\n",
    "\n",
    "def load_dataset_from_local(data_dir=\"1 imdb\"):\n",
    "    def read_ss_file(filepath):\n",
    "        texts = []\n",
    "        labels = []\n",
    "\n",
    "        with open(filepath, 'r', encoding='utf-8') as f:\n",
    "            for line in f:\n",
    "                line = line.strip()\n",
    "                if line:\n",
    "                    try:\n",
    "                        # 先尝试找到评分和文本的分隔符\n",
    "                        # 从你的示例看，格式可能是：用户ID\\t电影ID\\t评分\\t文本\n",
    "                        # 但实际数据可能有不同的分隔符\n",
    "                        \n",
    "                        # 方法1：使用正则表达式找到评分模式\n",
    "                        import re\n",
    "                        \n",
    "                        # 寻找评分模式（1-10的数字，前后有tab或空格）\n",
    "                        rating_pattern = r'\\t(\\d{1,2})\\t'\n",
    "                        match = re.search(rating_pattern, line)\n",
    "                        \n",
    "                        if match:\n",
    "                            rating = int(match.group(1))\n",
    "                            # 获取评分后的文本部分\n",
    "                            text_start = match.end()\n",
    "                            text = line[text_start:]\n",
    "                        else:\n",
    "                            # 如果正则匹配失败，尝试按tab分割\n",
    "                            parts = line.split('\\t')\n",
    "                            if len(parts) >= 4:\n",
    "                                # 寻找数字评分\n",
    "                                rating_found = False\n",
    "                                for i, part in enumerate(parts):\n",
    "                                    if part.isdigit() and 1 <= int(part) <= 10:\n",
    "                                        rating = int(part)\n",
    "                                        # 将评分后的所有部分作为文本\n",
    "                                        text = '\\t'.join(parts[i+1:])\n",
    "                                        rating_found = True\n",
    "                                        break\n",
    "                                \n",
    "                                if not rating_found:\n",
    "                                    continue\n",
    "                            else:\n",
    "                                continue\n",
    "                        \n",
    "                        # 过滤掉句子分割符并清理文本\n",
    "                        text = text.replace('<sssss>', ' ')\n",
    "                        text = re.sub(r'\\s+', ' ', text).strip()\n",
    "                        \n",
    "                        # 跳过空文本\n",
    "                        if not text:\n",
    "                            continue\n",
    "                        \n",
    "                        # 验证评分范围并转换为0-9索引（十分类）\n",
    "                        if 1 <= rating <= 10:\n",
    "                            label = rating - 1  # 将1-10转换为0-9\n",
    "                        else:\n",
    "                            continue  # 跳过无效评分\n",
    "                            \n",
    "                        texts.append(text)\n",
    "                        labels.append(label)\n",
    "                        \n",
    "                    except (ValueError, IndexError) as e:\n",
    "                        # 跳过格式错误的行\n",
    "                        print(f\"Skipping malformed line: {line[:100]}...\")\n",
    "                        continue\n",
    "        \n",
    "        return texts, labels\n",
    "    \n",
    "    train_texts, train_labels = read_ss_file(os.path.join(data_dir, \"imdb.train.txt.ss\"))\n",
    "    dev_texts, dev_labels = read_ss_file(os.path.join(data_dir, \"imdb.dev.txt.ss\"))\n",
    "    test_texts, test_labels = read_ss_file(os.path.join(data_dir, \"imdb.test.txt.ss\"))\n",
    "\n",
    "    return {\n",
    "        'train': {'text': train_texts, 'label': train_labels},\n",
    "        'dev': {'text': dev_texts, 'label': dev_labels},\n",
    "        'test': {'text': test_texts, 'label': test_labels}\n",
    "    }\n",
    "\n",
    "\n",
    "device = torch.device('cuda' if torch.cuda.is_available() else 'cpu')\n",
    "print(f\"Using device: {device}\")\n",
    "    \n",
    "    # 加载数据\n",
    "print(\"Loading IMDB dataset...\")\n",
    "dataset = load_dataset_from_local()\n",
    "    \n",
    "train_texts = dataset['train']['text']\n",
    "train_labels = dataset['train']['label']\n",
    "test_texts = dataset['test']['text']\n",
    "test_labels = dataset['test']['label']\n",
    "val_texts = dataset['dev']['text']\n",
    "val_labels = dataset['dev']['label']\n",
    "    \n",
    "print(f\"Train samples: {len(train_texts)}\")\n",
    "print(f\"Validation samples: {len(val_texts)}\")\n",
    "print(f\"Test samples: {len(test_texts)}\")"
   ]
  },
  {
   "cell_type": "code",
   "execution_count": 4,
   "id": "c459b6a2-14e9-4247-b408-834ab9edea3d",
   "metadata": {},
   "outputs": [
    {
     "name": "stdout",
     "output_type": "stream",
     "text": [
      "\n",
      "=== Training Model 1: GloVe + BiLSTM ===\n",
      "Vocabulary size: 76373\n",
      "GloVe file not found at glove.6B.300d.txt, using random embeddings\n"
     ]
    },
    {
     "name": "stderr",
     "output_type": "stream",
     "text": [
      "                                                                         \r"
     ]
    },
    {
     "name": "stdout",
     "output_type": "stream",
     "text": [
      "Epoch 1/5, Loss: 2.1017, Val Acc: 0.2073\n"
     ]
    },
    {
     "name": "stderr",
     "output_type": "stream",
     "text": [
      "                                                                         \r"
     ]
    },
    {
     "name": "stdout",
     "output_type": "stream",
     "text": [
      "Epoch 2/5, Loss: 2.0649, Val Acc: 0.2284\n"
     ]
    },
    {
     "name": "stderr",
     "output_type": "stream",
     "text": [
      "                                                                         \r"
     ]
    },
    {
     "name": "stdout",
     "output_type": "stream",
     "text": [
      "Epoch 3/5, Loss: 1.7809, Val Acc: 0.2908\n"
     ]
    },
    {
     "name": "stderr",
     "output_type": "stream",
     "text": [
      "                                                                         \r"
     ]
    },
    {
     "name": "stdout",
     "output_type": "stream",
     "text": [
      "Epoch 4/5, Loss: 1.5318, Val Acc: 0.3280\n"
     ]
    },
    {
     "name": "stderr",
     "output_type": "stream",
     "text": [
      "                                                                          \r"
     ]
    },
    {
     "name": "stdout",
     "output_type": "stream",
     "text": [
      "Epoch 5/5, Loss: 1.3068, Val Acc: 0.3576\n"
     ]
    }
   ],
   "source": [
    "    # Model 1: GloVe + BiLSTM\n",
    "print(\"\\n=== Training Model 1: GloVe + BiLSTM ===\")\n",
    "    \n",
    "    # 构建词汇表\n",
    "vocab = build_vocab(train_texts)\n",
    "print(f\"Vocabulary size: {len(vocab)}\")\n",
    "    \n",
    "    # 加载GloVe嵌入 (可选)\n",
    "glove_embeddings = load_glove_embeddings('glove.6B.300d.txt', vocab, 300)\n",
    "    \n",
    "    # 创建数据集，限制长度为512\n",
    "train_dataset_glove = IMDBDataset(train_texts, train_labels, vocab, max_len=512)\n",
    "val_dataset_glove = IMDBDataset(val_texts, val_labels, vocab, max_len=512)\n",
    "    \n",
    "train_loader_glove = DataLoader(train_dataset_glove, batch_size=64, shuffle=True)\n",
    "val_loader_glove = DataLoader(val_dataset_glove, batch_size=64)\n",
    "    \n",
    "    # 创建模型\n",
    "model1 = GloVeBiLSTMModel(\n",
    "    vocab_size=len(vocab),\n",
    "    embedding_dim=300,\n",
    "    hidden_dim=128,\n",
    "    num_classes=10,\n",
    "    pretrained_embeddings=glove_embeddings\n",
    ").to(device)\n",
    "    \n",
    "criterion = nn.CrossEntropyLoss()\n",
    "optimizer1 = optim.Adam(model1.parameters(), lr=1e-3)\n",
    "    \n",
    "    # 训练\n",
    "train_losses1, val_accs1 = train_model(model1, train_loader_glove, val_loader_glove, \n",
    "                                          criterion, optimizer1, num_epochs=5, device=device)"
   ]
  },
  {
   "cell_type": "code",
   "execution_count": 5,
   "id": "2b07f32a-7482-44ef-8e65-322bdc30fa62",
   "metadata": {},
   "outputs": [
    {
     "name": "stdout",
     "output_type": "stream",
     "text": [
      "\n",
      "=== Training Model 2: BERT嵌入 + BiLSTM ===\n"
     ]
    },
    {
     "name": "stderr",
     "output_type": "stream",
     "text": [
      "                                                                         \r"
     ]
    },
    {
     "name": "stdout",
     "output_type": "stream",
     "text": [
      "Epoch 1/5, Loss: 1.8341, Val Acc: 0.3182\n"
     ]
    },
    {
     "name": "stderr",
     "output_type": "stream",
     "text": [
      "                                                                         \r"
     ]
    },
    {
     "name": "stdout",
     "output_type": "stream",
     "text": [
      "Epoch 2/5, Loss: 1.6654, Val Acc: 0.3370\n"
     ]
    },
    {
     "name": "stderr",
     "output_type": "stream",
     "text": [
      "                                                                          \r"
     ]
    },
    {
     "name": "stdout",
     "output_type": "stream",
     "text": [
      "Epoch 3/5, Loss: 1.6113, Val Acc: 0.3556\n"
     ]
    },
    {
     "name": "stderr",
     "output_type": "stream",
     "text": [
      "                                                                         \r"
     ]
    },
    {
     "name": "stdout",
     "output_type": "stream",
     "text": [
      "Epoch 4/5, Loss: 1.5530, Val Acc: 0.3874\n"
     ]
    },
    {
     "name": "stderr",
     "output_type": "stream",
     "text": [
      "                                                                          \r"
     ]
    },
    {
     "name": "stdout",
     "output_type": "stream",
     "text": [
      "Epoch 5/5, Loss: 1.4967, Val Acc: 0.4059\n"
     ]
    }
   ],
   "source": [
    "    # Model 2: BERT嵌入 + BiLSTM\n",
    "print(\"\\n=== Training Model 2: BERT嵌入 + BiLSTM ===\")\n",
    "local_model_path = './bert-base-uncased-local' \n",
    "tokenizer = BertTokenizer.from_pretrained(local_model_path)    \n",
    "    # 限制BERT输入长度为512\n",
    "train_dataset_bert = IMDBDataset(train_texts, train_labels, tokenizer=tokenizer, \n",
    "                                    max_len=512, use_bert=True)\n",
    "val_dataset_bert = IMDBDataset(val_texts, val_labels, tokenizer=tokenizer, \n",
    "                                  max_len=512, use_bert=True)\n",
    "    \n",
    "train_loader_bert = DataLoader(train_dataset_bert, batch_size=16, shuffle=True)  # 减小batch size\n",
    "val_loader_bert = DataLoader(val_dataset_bert, batch_size=16)\n",
    "    \n",
    "model2 = BertBiLSTMModel(\n",
    "        bert_model_name=local_model_path,\n",
    "        hidden_dim=128,\n",
    "        num_classes=10,\n",
    "        freeze_bert=True\n",
    ").to(device)\n",
    "criterion = nn.CrossEntropyLoss()  \n",
    "optimizer2 = optim.Adam(model2.parameters(), lr=1e-3)\n",
    "    \n",
    "train_losses2, val_accs2 = train_model(model2, train_loader_bert, val_loader_bert, \n",
    "                                          criterion, optimizer2, num_epochs=5, device=device)"
   ]
  },
  {
   "cell_type": "code",
   "execution_count": 6,
   "id": "b9e5cf71-d3fa-4ee2-a65a-b87dd7896c6f",
   "metadata": {},
   "outputs": [
    {
     "name": "stdout",
     "output_type": "stream",
     "text": [
      "\n",
      "=== Training Model 3: BERT微调 ===\n"
     ]
    },
    {
     "name": "stderr",
     "output_type": "stream",
     "text": [
      "                                                                          \r"
     ]
    },
    {
     "name": "stdout",
     "output_type": "stream",
     "text": [
      "Epoch 1/3, Loss: 1.4880, Val Acc: 0.4593\n"
     ]
    },
    {
     "name": "stderr",
     "output_type": "stream",
     "text": [
      "                                                                          \r"
     ]
    },
    {
     "name": "stdout",
     "output_type": "stream",
     "text": [
      "Epoch 2/3, Loss: 1.2359, Val Acc: 0.4843\n"
     ]
    },
    {
     "name": "stderr",
     "output_type": "stream",
     "text": [
      "                                                                          \r"
     ]
    },
    {
     "name": "stdout",
     "output_type": "stream",
     "text": [
      "Epoch 3/3, Loss: 1.0619, Val Acc: 0.4820\n"
     ]
    }
   ],
   "source": [
    "    # Model 3: BERT微调\n",
    "print(\"\\n=== Training Model 3: BERT微调 ===\")\n",
    "local_model_path = './bert-base-uncased-local' \n",
    "tokenizer = BertTokenizer.from_pretrained(local_model_path)    \n",
    "    # 限制BERT输入长度为512\n",
    "train_dataset_bert = IMDBDataset(train_texts, train_labels, tokenizer=tokenizer, \n",
    "                                    max_len=512, use_bert=True)\n",
    "val_dataset_bert = IMDBDataset(val_texts, val_labels, tokenizer=tokenizer, \n",
    "                                  max_len=512, use_bert=True)\n",
    "    \n",
    "train_loader_bert = DataLoader(train_dataset_bert, batch_size=16, shuffle=True)  # 减小batch size\n",
    "val_loader_bert = DataLoader(val_dataset_bert, batch_size=16)\n",
    "model3 = BertFineTuneModel(\n",
    "    bert_model_name=local_model_path,\n",
    "        num_classes=10\n",
    ").to(device)\n",
    "\n",
    "criterion = nn.CrossEntropyLoss()  \n",
    "    \n",
    "optimizer3 = optim.Adam(model3.parameters(), lr=2e-5)\n",
    "    \n",
    "train_losses3, val_accs3 = train_model(model3, train_loader_bert, val_loader_bert, \n",
    "                                          criterion, optimizer3, num_epochs=3, device=device)"
   ]
  },
  {
   "cell_type": "code",
   "execution_count": 7,
   "id": "188476b4-23c6-4a38-9f48-838aa2866fa6",
   "metadata": {},
   "outputs": [
    {
     "name": "stderr",
     "output_type": "stream",
     "text": [
      "/tmp/ipykernel_1166/158229238.py:22: UserWarning: Glyph 23884 (\\N{CJK UNIFIED IDEOGRAPH-5D4C}) missing from font(s) DejaVu Sans.\n",
      "  plt.tight_layout()\n",
      "/tmp/ipykernel_1166/158229238.py:22: UserWarning: Glyph 20837 (\\N{CJK UNIFIED IDEOGRAPH-5165}) missing from font(s) DejaVu Sans.\n",
      "  plt.tight_layout()\n",
      "/tmp/ipykernel_1166/158229238.py:22: UserWarning: Glyph 24494 (\\N{CJK UNIFIED IDEOGRAPH-5FAE}) missing from font(s) DejaVu Sans.\n",
      "  plt.tight_layout()\n",
      "/tmp/ipykernel_1166/158229238.py:22: UserWarning: Glyph 35843 (\\N{CJK UNIFIED IDEOGRAPH-8C03}) missing from font(s) DejaVu Sans.\n",
      "  plt.tight_layout()\n",
      "/tmp/ipykernel_1166/158229238.py:23: UserWarning: Glyph 23884 (\\N{CJK UNIFIED IDEOGRAPH-5D4C}) missing from font(s) DejaVu Sans.\n",
      "  plt.savefig('imdb_results.png')\n",
      "/tmp/ipykernel_1166/158229238.py:23: UserWarning: Glyph 20837 (\\N{CJK UNIFIED IDEOGRAPH-5165}) missing from font(s) DejaVu Sans.\n",
      "  plt.savefig('imdb_results.png')\n",
      "/tmp/ipykernel_1166/158229238.py:23: UserWarning: Glyph 24494 (\\N{CJK UNIFIED IDEOGRAPH-5FAE}) missing from font(s) DejaVu Sans.\n",
      "  plt.savefig('imdb_results.png')\n",
      "/tmp/ipykernel_1166/158229238.py:23: UserWarning: Glyph 35843 (\\N{CJK UNIFIED IDEOGRAPH-8C03}) missing from font(s) DejaVu Sans.\n",
      "  plt.savefig('imdb_results.png')\n",
      "/root/miniconda3/lib/python3.10/site-packages/IPython/core/pylabtools.py:170: UserWarning: Glyph 23884 (\\N{CJK UNIFIED IDEOGRAPH-5D4C}) missing from font(s) DejaVu Sans.\n",
      "  fig.canvas.print_figure(bytes_io, **kw)\n",
      "/root/miniconda3/lib/python3.10/site-packages/IPython/core/pylabtools.py:170: UserWarning: Glyph 20837 (\\N{CJK UNIFIED IDEOGRAPH-5165}) missing from font(s) DejaVu Sans.\n",
      "  fig.canvas.print_figure(bytes_io, **kw)\n",
      "/root/miniconda3/lib/python3.10/site-packages/IPython/core/pylabtools.py:170: UserWarning: Glyph 24494 (\\N{CJK UNIFIED IDEOGRAPH-5FAE}) missing from font(s) DejaVu Sans.\n",
      "  fig.canvas.print_figure(bytes_io, **kw)\n",
      "/root/miniconda3/lib/python3.10/site-packages/IPython/core/pylabtools.py:170: UserWarning: Glyph 35843 (\\N{CJK UNIFIED IDEOGRAPH-8C03}) missing from font(s) DejaVu Sans.\n",
      "  fig.canvas.print_figure(bytes_io, **kw)\n"
     ]
    },
    {
     "data": {
      "image/png": "[encoded data removed]",
      "text/plain": [
       "<Figure size 1500x500 with 2 Axes>"
      ]
     },
     "metadata": {},
     "output_type": "display_data"
    },
    {
     "name": "stdout",
     "output_type": "stream",
     "text": [
      "\n",
      "=== Final Results ===\n",
      "Model 1 (GloVe + BiLSTM) - Best Val Acc: 0.3576\n",
      "Model 2 (BERT嵌入 + BiLSTM) - Best Val Acc: 0.4059\n",
      "Model 3 (BERT微调) - Best Val Acc: 0.4843\n"
     ]
    }
   ],
   "source": [
    "    \n",
    "    # 绘制结果\n",
    "plt.figure(figsize=(15, 5))\n",
    "    \n",
    "plt.subplot(1, 2, 1)\n",
    "plt.plot(train_losses1, label='GloVe + BiLSTM')\n",
    "plt.plot(train_losses2, label='BERT嵌入 + BiLSTM')\n",
    "plt.plot(train_losses3, label='BERT微调')\n",
    "plt.title('Training Loss')\n",
    "plt.xlabel('Epoch')\n",
    "plt.ylabel('Loss')\n",
    "plt.legend()\n",
    "    \n",
    "plt.subplot(1, 2, 2)\n",
    "plt.plot(val_accs1, label='GloVe + BiLSTM')\n",
    "plt.plot(val_accs2, label='BERT嵌入 + BiLSTM')\n",
    "plt.plot(val_accs3, label='BERT微调')\n",
    "plt.title('Validation Accuracy')\n",
    "plt.xlabel('Epoch')\n",
    "plt.ylabel('Accuracy')\n",
    "plt.legend()\n",
    "    \n",
    "plt.tight_layout()\n",
    "plt.savefig('imdb_results.png')\n",
    "plt.show()\n",
    "    \n",
    "print(\"\\n=== Final Results ===\")\n",
    "print(f\"Model 1 (GloVe + BiLSTM) - Best Val Acc: {max(val_accs1):.4f}\")\n",
    "print(f\"Model 2 (BERT嵌入 + BiLSTM) - Best Val Acc: {max(val_accs2):.4f}\")\n",
    "print(f\"Model 3 (BERT微调) - Best Val Acc: {max(val_accs3):.4f}\")\n",
    "\n"
   ]
  },
  {
   "cell_type": "code",
   "execution_count": null,
   "id": "23a29739-706c-489c-aad7-94d131802cc0",
   "metadata": {},
   "outputs": [],
   "source": []
  }
 ],
 "metadata": {
  "kernelspec": {
   "display_name": "Python 3 (ipykernel)",
   "language": "python",
   "name": "python3"
  },
  "language_info": {
   "codemirror_mode": {
    "name": "ipython",
    "version": 3
   },
   "file_extension": ".py",
   "mimetype": "text/x-python",
   "name": "python",
   "nbconvert_exporter": "python",
   "pygments_lexer": "ipython3",
   "version": "3.10.8"
  }
 },
 "nbformat": 4,
 "nbformat_minor": 5
}
